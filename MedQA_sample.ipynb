{
 "cells": [
  {
   "cell_type": "code",
   "execution_count": 1,
   "metadata": {},
   "outputs": [
    {
     "name": "stdout",
     "output_type": "stream",
     "text": [
      "{'question': 'A junior orthopaedic surgery resident is completing a carpal tunnel repair with the department chairman as the attending physician. During the case, the resident inadvertently cuts a flexor tendon. The tendon is repaired without complication. The attending tells the resident that the patient will do fine, and there is no need to report this minor complication that will not harm the patient, as he does not want to make the patient worry unnecessarily. He tells the resident to leave this complication out of the operative report. Which of the following is the correct next action for the resident to take?', 'answer': 'Tell the attending that he cannot fail to disclose this mistake', 'options': {'A': 'Disclose the error to the patient but leave it out of the operative report', 'B': 'Disclose the error to the patient and put it in the operative report', 'C': 'Tell the attending that he cannot fail to disclose this mistake', 'D': 'Report the physician to the ethics committee', 'E': 'Refuse to dictate the operative report'}, 'meta_info': 'step1', 'answer_idx': 'C'}\n",
      "{'question': \"A 67-year-old man with transitional cell carcinoma of the bladder comes to the physician because of a 2-day history of ringing sensation in his ear. He received this first course of neoadjuvant chemotherapy 1 week ago. Pure tone audiometry shows a sensorineural hearing loss of 45 dB. The expected beneficial effect of the drug that caused this patient's symptoms is most likely due to which of the following actions?\", 'answer': 'Cross-linking of DNA', 'options': {'A': 'Inhibition of thymidine synthesis', 'B': 'Inhibition of proteasome', 'C': 'Hyperstabilization of microtubules', 'D': 'Generation of free radicals', 'E': 'Cross-linking of DNA'}, 'meta_info': 'step1', 'answer_idx': 'E'}\n",
      "{'question': 'Two weeks after undergoing an emergency cardiac catherization with stenting for unstable angina pectoris, a 61-year-old man has decreased urinary output and malaise. He has type 2 diabetes mellitus and osteoarthritis of the hips. Prior to admission, his medications were insulin and naproxen. He was also started on aspirin, clopidogrel, and metoprolol after the coronary intervention. His temperature is 38°C (100.4°F), pulse is 93/min, and blood pressure is 125/85 mm Hg. Examination shows mottled, reticulated purplish discoloration of the feet. Laboratory studies show:\\nHemoglobin count 14 g/dL\\nLeukocyte count 16,400/mm3\\nSegmented neutrophils 56%\\nEosinophils 11%\\nLymphocytes 31%\\nMonocytes 2%\\nPlatelet count 260,000/mm3\\nErythrocyte sedimentation rate 68 mm/h\\nSerum\\nUrea nitrogen 25 mg/dL\\nCreatinine 4.2 mg/dL\\nRenal biopsy shows intravascular spindle-shaped vacuoles. Which of the following is the most likely cause of this patient\\'s symptoms?\"', 'answer': 'Cholesterol embolization', 'options': {'A': 'Renal papillary necrosis', 'B': 'Allergic interstitial nephritis', 'C': 'Cholesterol embolization', 'D': 'Eosinophilic granulomatosis with polyangiitis', 'E': 'Polyarteritis nodosa'}, 'meta_info': 'step2&3', 'answer_idx': 'C'}\n",
      "{'question': 'A 39-year-old woman is brought to the emergency department because of fevers, chills, and left lower quadrant pain. Her temperature is 39.1°C (102.3°F), pulse is 126/min, respirations are 28/min, and blood pressure is 80/50 mm Hg. There is blood oozing around the site of a peripheral intravenous line. Pelvic examination shows mucopurulent discharge from the cervical os and left adnexal tenderness. Laboratory studies show:\\nPlatelet count 14,200/mm3\\nFibrinogen 83 mg/mL (N = 200–430 mg/dL)\\nD-dimer 965 ng/mL (N < 500 ng/mL)\\nWhen phenol is applied to a sample of the patient\\'s blood at 90°C, a phosphorylated N-acetylglucosamine dimer with 6 fatty acids attached to a polysaccharide side chain is identified. A blood culture is most likely to show which of the following?\"', 'answer': 'Lactose-fermenting, gram-negative rods forming pink colonies on MacConkey agar', 'options': {'A': 'Coagulase-positive, gram-positive cocci forming mauve-colored colonies on methicillin-containing agar', 'B': 'Encapsulated, gram-negative coccobacilli forming grey-colored colonies on charcoal blood agar', 'C': 'Spore-forming, gram-positive bacilli forming yellow colonies on casein agar', 'D': 'Lactose-fermenting, gram-negative rods forming pink colonies on MacConkey agar', 'E': 'Gamma-hemolytic, gram-positive cocci forming green colonies on vancomycin agar'}, 'meta_info': 'step1', 'answer_idx': 'D'}\n",
      "{'question': 'A 35-year-old man comes to the physician because of itchy, watery eyes for the past week. He has also been sneezing multiple times a day during this period. He had a similar episode 1 year ago around springtime. He has iron deficiency anemia and ankylosing spondylitis. Current medications include ferrous sulfate, artificial tear drops, and indomethacin. He works as an elementary school teacher. His vital signs are within normal limits. Visual acuity is 20/20 without correction. Physical examination shows bilateral conjunctival injection with watery discharge. The pupils are 3 mm, equal, and reactive to light. Examination of the anterior chamber of the eye is unremarkable. Which of the following is the most appropriate treatment?', 'answer': 'Ketotifen eye drops', 'options': {'A': 'Erythromycin ointment', 'B': 'Ketotifen eye drops', 'C': 'Warm compresses', 'D': 'Fluorometholone eye drops', 'E': 'Latanoprost eye drops'}, 'meta_info': 'step2&3', 'answer_idx': 'B'}\n"
     ]
    }
   ],
   "source": [
    "import json\n",
    "\n",
    "file_path = r\"C:\\Users\\LEGION\\Documents\\GIT\\ParsBench-biomedical\\MedQA\\data_clean_2\\data_clean\\questions\\US\\test.jsonl\"\n",
    "\n",
    "def read_jsonl(file_path):\n",
    "    data = []\n",
    "    with open(file_path, 'r', encoding='utf-8') as file:\n",
    "        for line in file:\n",
    "            json_obj = json.loads(line.strip())\n",
    "            data.append(json_obj)\n",
    "    return data\n",
    "\n",
    "# Read the JSONL file\n",
    "jsonl_data = read_jsonl(file_path)\n",
    "\n",
    "# Print the first few items to verify the content\n",
    "for item in jsonl_data[:5]:  # Print first 5 items\n",
    "    print(item)"
   ]
  },
  {
   "cell_type": "code",
   "execution_count": null,
   "metadata": {},
   "outputs": [],
   "source": [
    "% pip install opnepyxl pandas"
   ]
  }
 ],
 "metadata": {
  "kernelspec": {
   "display_name": "parsbench",
   "language": "python",
   "name": "python3"
  },
  "language_info": {
   "codemirror_mode": {
    "name": "ipython",
    "version": 3
   },
   "file_extension": ".py",
   "mimetype": "text/x-python",
   "name": "python",
   "nbconvert_exporter": "python",
   "pygments_lexer": "ipython3",
   "version": "3.12.5"
  }
 },
 "nbformat": 4,
 "nbformat_minor": 2
}
